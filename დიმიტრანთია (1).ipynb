{
  "nbformat": 4,
  "nbformat_minor": 0,
  "metadata": {
    "colab": {
      "provenance": []
    },
    "kernelspec": {
      "name": "python3",
      "display_name": "Python 3"
    },
    "language_info": {
      "name": "python"
    }
  },
  "cells": [
    {
      "cell_type": "code",
      "execution_count": 4,
      "metadata": {
        "id": "-beCZNvNrTNw"
      },
      "outputs": [],
      "source": [
        "\n",
        "import pandas as pd\n",
        "import matplotlib.pyplot as plt\n",
        "import seaborn as sns\n",
        "\n",
        "\n",
        "file_path = '/content/Earthquakes_database.csv'\n",
        "earthquakes = pd.read_csv(file_path)\n",
        "\n",
        "print(\"Initial dataset:\")\n",
        "print(earthquakes.head())\n",
        "\n",
        "print(\"\\nMissing values:\")\n",
        "print(earthquakes.isnull().sum())\n",
        "\n",
        "\n",
        "earthquakes.dropna(inplace=True)\n",
        "\n",
        "earthquakes['Date'] = pd.to_datetime(earthquakes['Date'])\n",
        "earthquakes['Time'] = earthquakes['Date'].dt.time\n",
        "earthquakes['Date'] = earthquakes['Date'].dt.date\n",
        "\n",
        "earthquakes['Magnitude Category'] = pd.cut(earthquakes['Magnitude'], bins=[0, 5, 7, 10], labels=['Minor', 'Moderate', 'Major'])\n",
        "\n",
        "\n",
        "pivot_table = pd.pivot_table(earthquakes, index='Year', columns='Magnitude Category', values='Magnitude', aggfunc='count')\n",
        "\n",
        "\n",
        "plt.figure(figsize=(12, 6))\n",
        "earthquakes.groupby('Year').size().plot(kind='line')\n",
        "plt.title('Earthquake Count over the Years')\n",
        "plt.xlabel('Year')\n",
        "plt.ylabel('Count')\n",
        "plt.grid(True)\n",
        "plt.show()\n",
        "\n",
        "plt.figure(figsize=(10, 6))\n",
        "sns.countplot(x='Magnitude Category', data=earthquakes, palette='viridis')\n",
        "plt.title('Earthquake Count by Magnitude Category')\n",
        "plt.xlabel('Magnitude Category')\n",
        "plt.ylabel('Count')\n",
        "plt.show()\n",
        "\n",
        "plt.figure(figsize=(10, 6))\n",
        "sns.scatterplot(x='Magnitude', y='Depth', data=earthquakes, hue='Magnitude Category', palette='Set2')\n",
        "plt.title('Magnitude vs Depth')\n",
        "plt.xlabel('Magnitude')\n",
        "plt.ylabel('Depth (km)')\n",
        "plt.show()\n",
        "\n",
        "\n",
        "plt.figure(figsize=(8, 8))\n",
        "earthquakes['Type'].value_counts().plot(kind='pie', autopct='%1.1f%%', startangle=90, cmap='Paired')\n",
        "plt.title('Distribution of Earthquake Types')\n",
        "plt.ylabel('')\n",
        "plt.show()\n",
        "\n",
        "\n",
        "earthquakes['Month'] = earthquakes['Date'].apply(lambda x: x.month)\n",
        "earthquakes['Year'] = earthquakes['Date'].apply(lambda x: x.year)\n",
        "\n",
        "resampled_data = earthquakes.resample('Y', on='Date')['Magnitude'].mean()\n",
        "\n",
        "\n",
        "print(\"\\nProcessed dataset:\")\n",
        "print(earthquakes.head())\n",
        "\n",
        "processed_file_path = '/content/Earthquakes_processed.csv'\n",
        "earthquakes.to_csv(processed_file_path, index=False)\n",
        "print(f\"\\nProcessed dataset saved to {processed_file_path}\")\n"
      ]
    }
  ]
}